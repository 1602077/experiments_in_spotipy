{
  "nbformat": 4,
  "nbformat_minor": 0,
  "metadata": {
    "colab": {
      "name": "3_Logistic_Regression.ipynb",
      "provenance": [],
      "collapsed_sections": []
    },
    "kernelspec": {
      "display_name": "Python 3",
      "name": "python3"
    },
    "language_info": {
      "name": "python"
    }
  },
  "cells": [
    {
      "cell_type": "markdown",
      "metadata": {
        "id": "9fUdq3RPlGNo"
      },
      "source": [
        "# Logistic Regression\n",
        "\n",
        "This notebook builds a logitstic regression model to predict whether or not a song will be a hit or not based on its audio features as classified by Spotify (e.g. duration_ms, danceability, liveness etc.). A song is defined as successful if it achieves a minimum popularity score of 50. All data has been collected using Spotify's API as accessed through python's SpotiPy library - this is fully detailed in the prior notebook using the script defined in `scripst/get_spotify_data.py`.\n",
        "\n",
        "Time permitting, I hope to extend the accuracy of this initial classification using Billboard's API, by defining a song as a hit if it appears in their top / hot 100. As I am aware that defining success based purely on Spotify's popularity classification is not a fair measure of a song's success.\n",
        "\n",
        "This notebook is divided out as follows:\n",
        "\n",
        "  - 2.1 Feature Engineering\n",
        "  - 2.2 Logistic Regression Model\n",
        "  - 2.3 Hyperparameter Tuning\n",
        "  - 2.4 Final Model"
      ]
    },
    {
      "cell_type": "code",
      "metadata": {
        "colab": {
          "base_uri": "https://localhost:8080/"
        },
        "id": "YPCK4N6YlaUh",
        "outputId": "0ee9ccb2-cd24-4722-bc1d-606c1528ba64"
      },
      "source": [
        "import pandas as pd\n",
        "import numpy as np\n",
        "from matplotlib import pyplot as plt\n",
        "import seaborn as sns\n",
        "from google.colab import drive\n",
        "from sklearn.model_selection import train_test_split, cross_val_score\n",
        "from sklearn.linear_model import LogisticRegression\n",
        "from sklearn.metrics import confusion_matrix, precision_score, f1_score\n",
        "from sklearn.metrics import classification_report\n",
        "%pip install vaderSentiment  --quiet\n",
        "from vaderSentiment.vaderSentiment import SentimentIntensityAnalyzer\n",
        "drive.mount('/content/gdrive', force_remount=True)\n",
        "%cd /content/gdrive/MyDrive/spotify/scripts/"
      ],
      "execution_count": 1,
      "outputs": [
        {
          "output_type": "stream",
          "text": [
            "\u001b[?25l\r\u001b[K     |██▋                             | 10kB 16.7MB/s eta 0:00:01\r\u001b[K     |█████▏                          | 20kB 23.1MB/s eta 0:00:01\r\u001b[K     |███████▉                        | 30kB 19.2MB/s eta 0:00:01\r\u001b[K     |██████████▍                     | 40kB 15.3MB/s eta 0:00:01\r\u001b[K     |█████████████                   | 51kB 8.0MB/s eta 0:00:01\r\u001b[K     |███████████████▋                | 61kB 7.7MB/s eta 0:00:01\r\u001b[K     |██████████████████▏             | 71kB 7.8MB/s eta 0:00:01\r\u001b[K     |████████████████████▉           | 81kB 8.6MB/s eta 0:00:01\r\u001b[K     |███████████████████████▍        | 92kB 9.4MB/s eta 0:00:01\r\u001b[K     |██████████████████████████      | 102kB 7.7MB/s eta 0:00:01\r\u001b[K     |████████████████████████████▋   | 112kB 7.7MB/s eta 0:00:01\r\u001b[K     |███████████████████████████████▏| 122kB 7.7MB/s eta 0:00:01\r\u001b[K     |████████████████████████████████| 133kB 7.7MB/s \n",
            "\u001b[?25hMounted at /content/gdrive\n",
            "/content/gdrive/MyDrive/spotify/scripts\n"
          ],
          "name": "stdout"
        }
      ]
    },
    {
      "cell_type": "markdown",
      "metadata": {
        "id": "ftoHk7n_jyy2"
      },
      "source": [
        "## Feature Engineering\n",
        "\n",
        "I have begun by creating a series of features to help my model with its classification:\n",
        "\n",
        "- `hit?` - If a song has a `popularity > 50` it is defined as a hit (1) else 0.\n",
        "- `year` - Stripping `release_date` to just the year of release.\n",
        "- `sentiment` - Sentiment of `name` as classified using VADER.\n",
        "\n",
        "I have then checked for any NaN values and replaced these with the mean value of that column while dropping any non-numeric features."
      ]
    },
    {
      "cell_type": "code",
      "metadata": {
        "colab": {
          "base_uri": "https://localhost:8080/"
        },
        "id": "JmwvBCMV_Ico",
        "outputId": "15947807-28dd-4f3a-b75d-baac23a13db9"
      },
      "source": [
        "df = pd.read_csv(\"../data/master_data.csv\")\n",
        "audio_features = ['acousticness', 'danceability', 'energy', 'instrumentalness',\n",
        "       'liveness', 'loudness', 'speechiness', 'tempo', 'valence']\n",
        "hit_cutoff = 50\n",
        "df['hit?'] = df['popularity'].apply(lambda x: 1 if x>=hit_cutoff else 0)\n",
        "print(df['hit?'].value_counts(normalize=True))\n",
        "\n",
        "df['year'] = df['release_date'].apply(lambda x: int(x[:4]))\n",
        "# Sentiment analysis of track title using VADER\n",
        "analyser = SentimentIntensityAnalyzer()\n",
        "df['sentiment'] = df['name'].apply(lambda x:\n",
        "                                   analyser.polarity_scores(x)['compound'])"
      ],
      "execution_count": 2,
      "outputs": [
        {
          "output_type": "stream",
          "text": [
            "0    0.872103\n",
            "1    0.127897\n",
            "Name: hit?, dtype: float64\n"
          ],
          "name": "stdout"
        }
      ]
    },
    {
      "cell_type": "markdown",
      "metadata": {
        "id": "2OYoP0tlZ9Sy"
      },
      "source": [
        "We see here that our dataset has ended up being unbalanced, with ~13% of songs defined as hits (popularity > 50). This will need to be accounted for in training by weighting our classes to prevent the model from underfitting to the dataset."
      ]
    },
    {
      "cell_type": "code",
      "metadata": {
        "colab": {
          "base_uri": "https://localhost:8080/",
          "height": 224
        },
        "id": "zpP0CC5QNHrm",
        "outputId": "2a97bce0-d3b1-4d6a-c674-0a554413ae93"
      },
      "source": [
        "cut_bins = [-1, -0.33, 0.33, 1]\n",
        "cut_labels = [\"negative\", \"neutral\", \"postive\"]\n",
        "\n",
        "sentiment_df = pd.DataFrame()\n",
        "sentiment_df['polarity'] = pd.cut(df['sentiment'], bins=cut_bins,\n",
        "                                  labels=cut_labels)\n",
        "\n",
        "plt.figure(figsize=(3,3))\n",
        "sns.countplot(x='polarity', data=sentiment_df)\n",
        "plt.show()"
      ],
      "execution_count": 3,
      "outputs": [
        {
          "output_type": "display_data",
          "data": {
            "image/png": "[encoded data removed]",
            "text/plain": [
              "<Figure size 216x216 with 1 Axes>"
            ]
          },
          "metadata": {
            "tags": [],
            "needs_background": "light"
          }
        }
      ]
    },
    {
      "cell_type": "markdown",
      "metadata": {
        "id": "aEGn84f-ZqBP"
      },
      "source": [
        "Due to the generally short song names and the lack of any context, most songs have been assigned a 'neutral' sentiment."
      ]
    },
    {
      "cell_type": "code",
      "metadata": {
        "colab": {
          "base_uri": "https://localhost:8080/"
        },
        "id": "23Q_UXeAHfNd",
        "outputId": "0a938766-53fb-4c2d-965c-c744f6a8b4b6"
      },
      "source": [
        "#replace duartion NaNs with the mean column value.\n",
        "duration_mean = df['duration_ms'].mean()\n",
        "df['duration_ms'].fillna(duration_mean, inplace=True)\n",
        "# Check for nulls or NaNs before training\n",
        "print(pd.isnull(df).sum())"
      ],
      "execution_count": 4,
      "outputs": [
        {
          "output_type": "stream",
          "text": [
            "artist_name         0\n",
            "album               0\n",
            "track_number        0\n",
            "id                  0\n",
            "name                0\n",
            "uri                 0\n",
            "acousticness        0\n",
            "danceability        0\n",
            "energy              0\n",
            "instrumentalness    0\n",
            "liveness            0\n",
            "loudness            0\n",
            "speechiness         0\n",
            "tempo               0\n",
            "valence             0\n",
            "duration_ms         0\n",
            "release_date        0\n",
            "popularity          0\n",
            "hit?                0\n",
            "year                0\n",
            "sentiment           0\n",
            "dtype: int64\n"
          ],
          "name": "stdout"
        }
      ]
    },
    {
      "cell_type": "markdown",
      "metadata": {
        "id": "BhnFTBcEZFDQ"
      },
      "source": [
        "To speed up the convergence of my algorithm, I have normalised all my input features. This will become particularly important later on when building neural networks to prevent exploding / vanishing gradients."
      ]
    },
    {
      "cell_type": "code",
      "metadata": {
        "colab": {
          "base_uri": "https://localhost:8080/"
        },
        "id": "V4R80iwd5cx-",
        "outputId": "40b126d8-4a80-4ebd-f1b1-1883952ef67a"
      },
      "source": [
        "# Drop text features and normalise the remaining numeric features.\n",
        "df.drop(labels=[\"track_number\", \"artist_name\", \"year\", \"album\", \"name\", \"id\",\n",
        "                \"uri\", \"release_date\"], axis=1, inplace=True)\n",
        "\n",
        "from sklearn.preprocessing import MinMaxScaler\n",
        "x = df.values\n",
        "min_max_scaler = MinMaxScaler()\n",
        "x_scaled = min_max_scaler.fit_transform(x)\n",
        "df = pd.DataFrame(x_scaled, columns = [*audio_features, \"duration_ms\", \n",
        "                                       \"popularity\", \"hit?\", \"sentiment\"])\n",
        "print(df.columns)"
      ],
      "execution_count": 5,
      "outputs": [
        {
          "output_type": "stream",
          "text": [
            "Index(['acousticness', 'danceability', 'energy', 'instrumentalness',\n",
            "       'liveness', 'loudness', 'speechiness', 'tempo', 'valence',\n",
            "       'duration_ms', 'popularity', 'hit?', 'sentiment'],\n",
            "      dtype='object')\n"
          ],
          "name": "stdout"
        }
      ]
    },
    {
      "cell_type": "markdown",
      "metadata": {
        "id": "0bBJKMR3jdXY"
      },
      "source": [
        "## Logistic Regression Model\n",
        "\n",
        "To begin training our model, we first must split the data into test and train sets. I have then defined a helper function to plot the confusion matrix given a set of predictions and actual values."
      ]
    },
    {
      "cell_type": "code",
      "metadata": {
        "colab": {
          "base_uri": "https://localhost:8080/",
          "height": 197
        },
        "id": "FPga1Dr1ONiS",
        "outputId": "dd5bc7ef-1d5b-4788-de13-ba69b1ac8e46"
      },
      "source": [
        "x = df.drop([\"hit?\", \"popularity\"], axis=1)\n",
        "y = df.loc[:,\"hit?\"].values\n",
        "\n",
        "X_train, X_test, y_train, y_test = train_test_split(x, y, test_size=0.3)\n",
        "df.head()"
      ],
      "execution_count": 6,
      "outputs": [
        {
          "output_type": "execute_result",
          "data": {
            "text/html": [
              "<div>\n",
              "<style scoped>\n",
              "    .dataframe tbody tr th:only-of-type {\n",
              "        vertical-align: middle;\n",
              "    }\n",
              "\n",
              "    .dataframe tbody tr th {\n",
              "        vertical-align: top;\n",
              "    }\n",
              "\n",
              "    .dataframe thead th {\n",
              "        text-align: right;\n",
              "    }\n",
              "</style>\n",
              "<table border=\"1\" class=\"dataframe\">\n",
              "  <thead>\n",
              "    <tr style=\"text-align: right;\">\n",
              "      <th></th>\n",
              "      <th>acousticness</th>\n",
              "      <th>danceability</th>\n",
              "      <th>energy</th>\n",
              "      <th>instrumentalness</th>\n",
              "      <th>liveness</th>\n",
              "      <th>loudness</th>\n",
              "      <th>speechiness</th>\n",
              "      <th>tempo</th>\n",
              "      <th>valence</th>\n",
              "      <th>duration_ms</th>\n",
              "      <th>popularity</th>\n",
              "      <th>hit?</th>\n",
              "      <th>sentiment</th>\n",
              "    </tr>\n",
              "  </thead>\n",
              "  <tbody>\n",
              "    <tr>\n",
              "      <th>0</th>\n",
              "      <td>0.338353</td>\n",
              "      <td>0.763931</td>\n",
              "      <td>0.352339</td>\n",
              "      <td>0.000012</td>\n",
              "      <td>0.1760</td>\n",
              "      <td>0.777889</td>\n",
              "      <td>0.094416</td>\n",
              "      <td>0.304641</td>\n",
              "      <td>0.757789</td>\n",
              "      <td>0.032415</td>\n",
              "      <td>0.069767</td>\n",
              "      <td>0.0</td>\n",
              "      <td>0.492009</td>\n",
              "    </tr>\n",
              "    <tr>\n",
              "      <th>1</th>\n",
              "      <td>0.188754</td>\n",
              "      <td>0.660588</td>\n",
              "      <td>0.472462</td>\n",
              "      <td>0.196393</td>\n",
              "      <td>0.0974</td>\n",
              "      <td>0.790692</td>\n",
              "      <td>0.116856</td>\n",
              "      <td>0.337357</td>\n",
              "      <td>0.753769</td>\n",
              "      <td>0.034388</td>\n",
              "      <td>0.046512</td>\n",
              "      <td>0.0</td>\n",
              "      <td>0.492009</td>\n",
              "    </tr>\n",
              "    <tr>\n",
              "      <th>2</th>\n",
              "      <td>0.652610</td>\n",
              "      <td>0.601824</td>\n",
              "      <td>0.494484</td>\n",
              "      <td>0.000002</td>\n",
              "      <td>0.0913</td>\n",
              "      <td>0.835106</td>\n",
              "      <td>0.055636</td>\n",
              "      <td>0.551861</td>\n",
              "      <td>0.442211</td>\n",
              "      <td>0.052423</td>\n",
              "      <td>0.069767</td>\n",
              "      <td>0.0</td>\n",
              "      <td>0.492009</td>\n",
              "    </tr>\n",
              "    <tr>\n",
              "      <th>3</th>\n",
              "      <td>0.915663</td>\n",
              "      <td>0.270517</td>\n",
              "      <td>0.177161</td>\n",
              "      <td>0.000011</td>\n",
              "      <td>0.1050</td>\n",
              "      <td>0.705642</td>\n",
              "      <td>0.039090</td>\n",
              "      <td>0.332657</td>\n",
              "      <td>0.202010</td>\n",
              "      <td>0.049987</td>\n",
              "      <td>0.034884</td>\n",
              "      <td>0.0</td>\n",
              "      <td>0.492009</td>\n",
              "    </tr>\n",
              "    <tr>\n",
              "      <th>4</th>\n",
              "      <td>0.312248</td>\n",
              "      <td>0.746707</td>\n",
              "      <td>0.295281</td>\n",
              "      <td>0.000000</td>\n",
              "      <td>0.1410</td>\n",
              "      <td>0.788773</td>\n",
              "      <td>0.166494</td>\n",
              "      <td>0.292026</td>\n",
              "      <td>0.704523</td>\n",
              "      <td>0.055541</td>\n",
              "      <td>0.046512</td>\n",
              "      <td>0.0</td>\n",
              "      <td>0.534119</td>\n",
              "    </tr>\n",
              "  </tbody>\n",
              "</table>\n",
              "</div>"
            ],
            "text/plain": [
              "   acousticness  danceability    energy  ...  popularity  hit?  sentiment\n",
              "0      0.338353      0.763931  0.352339  ...    0.069767   0.0   0.492009\n",
              "1      0.188754      0.660588  0.472462  ...    0.046512   0.0   0.492009\n",
              "2      0.652610      0.601824  0.494484  ...    0.069767   0.0   0.492009\n",
              "3      0.915663      0.270517  0.177161  ...    0.034884   0.0   0.492009\n",
              "4      0.312248      0.746707  0.295281  ...    0.046512   0.0   0.534119\n",
              "\n",
              "[5 rows x 13 columns]"
            ]
          },
          "metadata": {
            "tags": []
          },
          "execution_count": 6
        }
      ]
    },
    {
      "cell_type": "code",
      "metadata": {
        "id": "V_OiiMq_ZrlL"
      },
      "source": [
        "def conf_matrix(y_test, pred_test):    \n",
        "    con_mat = confusion_matrix(y_test, pred_test)\n",
        "    con_mat = pd.DataFrame(con_mat, range(2), range(2))\n",
        "   \n",
        "    plt.figure(figsize=(3,3))\n",
        "    sns.set(font_scale=1) \n",
        "    sns.heatmap(con_mat, annot=True, annot_kws={\"size\": 12}, fmt='g',\n",
        "                cmap='Blues', cbar=False)\n",
        "    plt.ylabel(\"Actual Values\")\n",
        "    plt.xlabel(\"Predicted Values\")\n",
        "    plt.show()"
      ],
      "execution_count": 7,
      "outputs": []
    },
    {
      "cell_type": "markdown",
      "metadata": {
        "id": "MDdYpCXLBZnL"
      },
      "source": [
        "### Class Imbalance\n",
        "\n",
        "When training our algorithm, the severe class imbalance needs to be accounted for to create a model that properly fits the data. Using accuracy would not be a suitable metric to define performance, as naively the model could achieve around 87% accuracy just by classifying everything as not being not a hit. Sci-kit learn has a number of default class weightings:\n",
        "\n",
        "`\"None\"` \n",
        "- Each class is assigned an equal weighting, in the case of a highly imbalanced dataset like we have this will result in the majority class dominating in classification.\n",
        "- Below shows its confusion matrix, everything has been classified as not a hit.\n",
        "- This is further reflected by the model's F1 score of 0 - a metric combining the precision and recall of the model - this isis indicative that we are not fitting to the data at all.\n",
        "\n",
        "`\"balanced\"`\n",
        "- Balanced class weighting will adjust the class weighting inversely proportional to the frequencies of each class.\n",
        "- This will assign a higher penalty to misclassifying a hit (class 1) and has resulted in a model that fits the dataset better.\n",
        "- This has still resulted in a rather low precision, with only 20% of classified hits being true hits.\n",
        "\n",
        "We ideally want to maximise the precision of song classification as hits. Due to the high cost in promoting and marketing songs, we only want to make this investment if a song truly has the potential to be a hit."
      ]
    },
    {
      "cell_type": "code",
      "metadata": {
        "colab": {
          "base_uri": "https://localhost:8080/",
          "height": 585
        },
        "id": "rm9fnYdLPYvs",
        "outputId": "9a438d4b-551d-40bf-c582-41ee1303894a"
      },
      "source": [
        "for class_weight in [\"None\", \"balanced\"]:\n",
        "  model = LogisticRegression(solver=\"newton-cg\", class_weight=class_weight,\n",
        "                             max_iter=1000)\n",
        "  model.fit(X_train, y_train)\n",
        "  y_pred = model.predict(X_test)\n",
        "\n",
        "  print(f\"CLASS WEIGHT: {class_weight}\")\n",
        "  print(f\"F1 SCORE: {f1_score(y_test, y_pred)}\")\n",
        "  print(f\"PRECISION: {precision_score(y_test, y_pred, zero_division=0)}\\n\")\n",
        "  conf_matrix(y_test, y_pred)"
      ],
      "execution_count": 8,
      "outputs": [
        {
          "output_type": "stream",
          "text": [
            "CLASS WEIGHT: None\n",
            "F1 SCORE: 0.0007309941520467837\n",
            "PRECISION: 1.0\n",
            "\n"
          ],
          "name": "stdout"
        },
        {
          "output_type": "display_data",
          "data": {
            "image/png": "[encoded data removed]",
            "text/plain": [
              "<Figure size 216x216 with 1 Axes>"
            ]
          },
          "metadata": {
            "tags": [],
            "needs_background": "light"
          }
        },
        {
          "output_type": "stream",
          "text": [
            "CLASS WEIGHT: balanced\n",
            "F1 SCORE: 0.30790982640798054\n",
            "PRECISION: 0.19607843137254902\n",
            "\n"
          ],
          "name": "stdout"
        },
        {
          "output_type": "display_data",
          "data": {
            "image/png": "[encoded data removed]",
            "text/plain": [
              "<Figure size 216x216 with 1 Axes>"
            ]
          },
          "metadata": {
            "tags": []
          }
        }
      ]
    },
    {
      "cell_type": "markdown",
      "metadata": {
        "id": "EP91y3OLjlyO"
      },
      "source": [
        "## Hyperparameter Tuning\n",
        "\n",
        "The `balanced` option seems like a reasonable heuristic for accounting for class imbalanced, although I have also performed a 5-fold stratified grid search over the class weighting parameter space from 0 - 1, with the goal of maximising the resultant model's F1 score."
      ]
    },
    {
      "cell_type": "code",
      "metadata": {
        "id": "ZWifm-e0b7tr",
        "colab": {
          "base_uri": "https://localhost:8080/"
        },
        "outputId": "c3c55bf7-67bd-46af-cd82-73d665d8f1f0"
      },
      "source": [
        "from sklearn.model_selection import GridSearchCV, StratifiedKFold\n",
        "\n",
        "model = LogisticRegression(solver='newton-cg', penalty=\"l2\")\n",
        "weights = np.linspace(0,0.99,200)\n",
        "weights_grid = [{1:x, 0:1.0-x} for x in weights]\n",
        "param_grid = {'class_weight': weights_grid}\n",
        "\n",
        "gridsearch = GridSearchCV(estimator=model, \n",
        "                          param_grid=param_grid,\n",
        "                          cv=StratifiedKFold(), \n",
        "                          n_jobs=-1, \n",
        "                          scoring='f1', \n",
        "                          verbose=2).fit(X_train, y_train)\n",
        "                          \n",
        "print(f\"\\nBEST MODEL PARAMETERS: {gridsearch.best_params_}\")\n",
        "print(f\"MAX F1 SCORE: {gridsearch.best_score_}\")"
      ],
      "execution_count": 9,
      "outputs": [
        {
          "output_type": "stream",
          "text": [
            "Fitting 5 folds for each of 200 candidates, totalling 1000 fits\n"
          ],
          "name": "stdout"
        },
        {
          "output_type": "stream",
          "text": [
            "[Parallel(n_jobs=-1)]: Using backend LokyBackend with 2 concurrent workers.\n",
            "[Parallel(n_jobs=-1)]: Done  37 tasks      | elapsed:   10.2s\n",
            "[Parallel(n_jobs=-1)]: Done 158 tasks      | elapsed:   43.0s\n",
            "[Parallel(n_jobs=-1)]: Done 361 tasks      | elapsed:  1.7min\n",
            "[Parallel(n_jobs=-1)]: Done 644 tasks      | elapsed:  3.2min\n",
            "[Parallel(n_jobs=-1)]: Done 1000 out of 1000 | elapsed:  4.6min finished\n"
          ],
          "name": "stderr"
        },
        {
          "output_type": "stream",
          "text": [
            "\n",
            "BEST MODEL PARAMETERS: {'class_weight': {1: 0.8457286432160804, 0: 0.15427135678391957}}\n",
            "MAX F1 SCORE: 0.31635103473851\n"
          ],
          "name": "stdout"
        }
      ]
    },
    {
      "cell_type": "code",
      "metadata": {
        "id": "ODjosR2EYDOd",
        "colab": {
          "base_uri": "https://localhost:8080/",
          "height": 518
        },
        "outputId": "806fb5b5-7be4-419f-bb5d-1163af0dd1da"
      },
      "source": [
        "weight_data = pd.DataFrame({'score': gridsearch.cv_results_['mean_test_score'],\n",
        "                            'weight': (1- weights)})\n",
        "\n",
        "plt.figure(figsize=(12,8))\n",
        "sns.set_style('white')\n",
        "sns.lineplot(x='weight', y='score', data=weight_data)\n",
        "plt.xlabel('Weight for class 0')\n",
        "plt.ylabel('F1 score')\n",
        "plt.xticks([round(i/10,1) for i in range(0,11,1)])\n",
        "plt.title('F1 score distribution across class weighting space', fontsize=14)\n",
        "plt.show()"
      ],
      "execution_count": 13,
      "outputs": [
        {
          "output_type": "display_data",
          "data": {
            "image/png": "[encoded data removed]",
            "text/plain": [
              "<Figure size 864x576 with 1 Axes>"
            ]
          },
          "metadata": {
            "tags": []
          }
        }
      ]
    },
    {
      "cell_type": "code",
      "metadata": {
        "id": "P6yB-dcUWLyP",
        "colab": {
          "base_uri": "https://localhost:8080/"
        },
        "outputId": "bce7f24b-4a25-42aa-e3e5-e8142ed85832"
      },
      "source": [
        "print(gridsearch.best_estimator_)"
      ],
      "execution_count": 11,
      "outputs": [
        {
          "output_type": "stream",
          "text": [
            "LogisticRegression(C=1.0,\n",
            "                   class_weight={0: 0.15427135678391957, 1: 0.8457286432160804},\n",
            "                   dual=False, fit_intercept=True, intercept_scaling=1,\n",
            "                   l1_ratio=None, max_iter=100, multi_class='auto', n_jobs=None,\n",
            "                   penalty='l2', random_state=None, solver='newton-cg',\n",
            "                   tol=0.0001, verbose=0, warm_start=False)\n"
          ],
          "name": "stdout"
        }
      ]
    },
    {
      "cell_type": "markdown",
      "metadata": {
        "id": "KMcHRpQNjt-J"
      },
      "source": [
        "## Final Model\n",
        "\n",
        "The resultant model from this optimisation is presented below, while accounting for class weighting has improved the F1 score of our model, it is still misclassifying a large portion of our dataset. \n",
        "\n",
        "This is indicative of two points, either:\n",
        "- our model is too simplistic to fit our data; or\n",
        "- the features in our model are of low predictive power.\n",
        "\n",
        "I believe that currently, the model has too few features to model popularity accurately. For example, an artist name has an impact on a song's number of streams. A mainstream artist will get more streams than an identical release from an indie artist, discounting promotion and marketing differences, simply from their following/fanbase size. Before adjusting my data downloading pipeline, I have built a series of more complex models to confirm this hypothesis."
      ]
    },
    {
      "cell_type": "code",
      "metadata": {
        "id": "KNF-uRnEn9GA",
        "colab": {
          "base_uri": "https://localhost:8080/",
          "height": 443
        },
        "outputId": "c600a89a-73f0-40f4-dd92-c971d51c9a7d"
      },
      "source": [
        "max_f1_score = gridsearch.best_score_\n",
        "opt_weight = weight_data.loc[weight_data['score'] == max_f1_score,\n",
        "                             'weight'].iloc[0]\n",
        "optimum_weights = {0: opt_weight, 1: 1-opt_weight}\n",
        "\n",
        "model = LogisticRegression(solver=\"newton-cg\", class_weight = optimum_weights,\n",
        "                           max_iter=1000)\n",
        "model.fit(X_train, y_train)\n",
        "predictions = model.predict(X_test)\n",
        "\n",
        "print(f\"CLASS WEIGHT: {optimum_weights}\")\n",
        "print(f\"F1 SCORE: {f1_score(y_test, y_pred)}\")\n",
        "print(f\"PRECISION: {precision_score(y_test, y_pred, zero_division=0)}\")\n",
        "\n",
        "conf_matrix(y_test, y_pred)\n",
        "\n",
        "print(classification_report(y_test, predictions))"
      ],
      "execution_count": 12,
      "outputs": [
        {
          "output_type": "stream",
          "text": [
            "CLASS WEIGHT: {0: 0.15427135678391957, 1: 0.8457286432160804}\n",
            "F1 SCORE: 0.30790982640798054\n",
            "PRECISION: 0.19607843137254902\n"
          ],
          "name": "stdout"
        },
        {
          "output_type": "display_data",
          "data": {
            "image/png": "[encoded data removed]",
            "text/plain": [
              "<Figure size 216x216 with 1 Axes>"
            ]
          },
          "metadata": {
            "tags": []
          }
        },
        {
          "output_type": "stream",
          "text": [
            "              precision    recall  f1-score   support\n",
            "\n",
            "         0.0       0.92      0.69      0.79     18653\n",
            "         1.0       0.22      0.58      0.31      2735\n",
            "\n",
            "    accuracy                           0.68     21388\n",
            "   macro avg       0.57      0.64      0.55     21388\n",
            "weighted avg       0.83      0.68      0.73     21388\n",
            "\n"
          ],
          "name": "stdout"
        }
      ]
    }
  ]
}